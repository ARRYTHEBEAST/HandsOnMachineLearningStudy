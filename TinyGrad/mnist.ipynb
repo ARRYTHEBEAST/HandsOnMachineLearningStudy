{
 "cells": [
  {
   "cell_type": "code",
   "execution_count": 1,
   "metadata": {},
   "outputs": [
    {
     "name": "stdout",
     "output_type": "stream",
     "text": [
      "heelp\n"
     ]
    }
   ],
   "source": [
    "print('heelp')"
   ]
  },
  {
   "cell_type": "code",
   "execution_count": 2,
   "metadata": {},
   "outputs": [
    {
     "name": "stdout",
     "output_type": "stream",
     "text": [
      "Collecting tinygrad\n",
      "  Downloading tinygrad-0.9.2-py3-none-any.whl.metadata (10 kB)\n",
      "Requirement already satisfied: numpy in /Users/arjun/Documents/HandsOnMachineLearningStudy/.venv/lib/python3.12/site-packages (from tinygrad) (2.0.0)\n",
      "Collecting pyobjc-framework-Metal (from tinygrad)\n",
      "  Downloading pyobjc_framework_Metal-10.3.1-cp36-abi3-macosx_11_0_universal2.whl.metadata (2.2 kB)\n",
      "Collecting pyobjc-framework-libdispatch (from tinygrad)\n",
      "  Downloading pyobjc_framework_libdispatch-10.3.1-cp312-cp312-macosx_10_9_universal2.whl.metadata (2.2 kB)\n",
      "Collecting pyobjc-core>=10.3.1 (from pyobjc-framework-libdispatch->tinygrad)\n",
      "  Using cached pyobjc_core-10.3.1-cp312-cp312-macosx_10_9_universal2.whl.metadata (2.5 kB)\n",
      "Collecting pyobjc-framework-Cocoa>=10.3.1 (from pyobjc-framework-libdispatch->tinygrad)\n",
      "  Using cached pyobjc_framework_Cocoa-10.3.1-cp312-cp312-macosx_10_9_universal2.whl.metadata (2.3 kB)\n",
      "Downloading tinygrad-0.9.2-py3-none-any.whl (751 kB)\n",
      "\u001b[2K   \u001b[90m━━━━━━━━━━━━━━━━━━━━━━━━━━━━━━━━━━━━━━━━\u001b[0m \u001b[32m752.0/752.0 kB\u001b[0m \u001b[31m7.0 MB/s\u001b[0m eta \u001b[36m0:00:00\u001b[0ma \u001b[36m0:00:01\u001b[0m\n",
      "\u001b[?25hDownloading pyobjc_framework_libdispatch-10.3.1-cp312-cp312-macosx_10_9_universal2.whl (20 kB)\n",
      "Downloading pyobjc_framework_Metal-10.3.1-cp36-abi3-macosx_11_0_universal2.whl (55 kB)\n",
      "\u001b[2K   \u001b[90m━━━━━━━━━━━━━━━━━━━━━━━━━━━━━━━━━━━━━━━━\u001b[0m \u001b[32m55.8/55.8 kB\u001b[0m \u001b[31m7.5 MB/s\u001b[0m eta \u001b[36m0:00:00\u001b[0m\n",
      "\u001b[?25hUsing cached pyobjc_core-10.3.1-cp312-cp312-macosx_10_9_universal2.whl (825 kB)\n",
      "Using cached pyobjc_framework_Cocoa-10.3.1-cp312-cp312-macosx_10_9_universal2.whl (396 kB)\n",
      "Installing collected packages: pyobjc-core, pyobjc-framework-Cocoa, pyobjc-framework-Metal, pyobjc-framework-libdispatch, tinygrad\n",
      "Successfully installed pyobjc-core-10.3.1 pyobjc-framework-Cocoa-10.3.1 pyobjc-framework-Metal-10.3.1 pyobjc-framework-libdispatch-10.3.1 tinygrad-0.9.2\n",
      "\n",
      "\u001b[1m[\u001b[0m\u001b[34;49mnotice\u001b[0m\u001b[1;39;49m]\u001b[0m\u001b[39;49m A new release of pip is available: \u001b[0m\u001b[31;49m24.1\u001b[0m\u001b[39;49m -> \u001b[0m\u001b[32;49m24.2\u001b[0m\n",
      "\u001b[1m[\u001b[0m\u001b[34;49mnotice\u001b[0m\u001b[1;39;49m]\u001b[0m\u001b[39;49m To update, run: \u001b[0m\u001b[32;49mpip install --upgrade pip\u001b[0m\n"
     ]
    }
   ],
   "source": [
    "!pip3 install tinygrad"
   ]
  },
  {
   "cell_type": "code",
   "execution_count": 3,
   "metadata": {},
   "outputs": [
    {
     "name": "stdout",
     "output_type": "stream",
     "text": [
      "Requirement already satisfied: pip in /Users/arjun/Documents/HandsOnMachineLearningStudy/.venv/lib/python3.12/site-packages (24.1)\n",
      "Collecting pip\n",
      "  Using cached pip-24.2-py3-none-any.whl.metadata (3.6 kB)\n",
      "Using cached pip-24.2-py3-none-any.whl (1.8 MB)\n",
      "Installing collected packages: pip\n",
      "  Attempting uninstall: pip\n",
      "    Found existing installation: pip 24.1\n",
      "    Uninstalling pip-24.1:\n",
      "      Successfully uninstalled pip-24.1\n",
      "Successfully installed pip-24.2\n"
     ]
    }
   ],
   "source": [
    "!pip3 install --upgrade pip"
   ]
  },
  {
   "cell_type": "code",
   "execution_count": 5,
   "metadata": {},
   "outputs": [
    {
     "name": "stdout",
     "output_type": "stream",
     "text": [
      "Collecting typing\n",
      "  Downloading typing-3.7.4.3.tar.gz (78 kB)\n",
      "  Installing build dependencies ... \u001b[?25ldone\n",
      "\u001b[?25h  Getting requirements to build wheel ... \u001b[?25ldone\n",
      "\u001b[?25h  Preparing metadata (pyproject.toml) ... \u001b[?25ldone\n",
      "\u001b[?25hBuilding wheels for collected packages: typing\n",
      "  Building wheel for typing (pyproject.toml) ... \u001b[?25ldone\n",
      "\u001b[?25h  Created wheel for typing: filename=typing-3.7.4.3-py3-none-any.whl size=26304 sha256=332faeeb04c3febd853adf956c39d53436c127d1592d30ae29d9336712776066\n",
      "  Stored in directory: /Users/arjun/Library/Caches/pip/wheels/12/98/52/2bffe242a9a487f00886e43b8ed8dac46456702e11a0d6abef\n",
      "Successfully built typing\n",
      "Installing collected packages: typing\n",
      "Successfully installed typing-3.7.4.3\n"
     ]
    }
   ],
   "source": [
    "!pip3 install typing"
   ]
  },
  {
   "cell_type": "code",
   "execution_count": 6,
   "metadata": {},
   "outputs": [
    {
     "ename": "ValueError",
     "evalue": "invalid literal for int() with base 10: 'WARN'",
     "output_type": "error",
     "traceback": [
      "\u001b[0;31m---------------------------------------------------------------------------\u001b[0m",
      "\u001b[0;31mValueError\u001b[0m                                Traceback (most recent call last)",
      "Cell \u001b[0;32mIn[6], line 2\u001b[0m\n\u001b[1;32m      1\u001b[0m \u001b[38;5;28;01mfrom\u001b[39;00m \u001b[38;5;21;01mtyping\u001b[39;00m \u001b[38;5;28;01mimport\u001b[39;00m List, Callable\n\u001b[0;32m----> 2\u001b[0m \u001b[38;5;28;01mfrom\u001b[39;00m \u001b[38;5;21;01mtinygrad\u001b[39;00m \u001b[38;5;28;01mimport\u001b[39;00m Tensor, TinyJit, nn, GlobalCounters\n\u001b[1;32m      3\u001b[0m \u001b[38;5;28;01mfrom\u001b[39;00m \u001b[38;5;21;01mtinygrad\u001b[39;00m\u001b[38;5;21;01m.\u001b[39;00m\u001b[38;5;21;01mhelpers\u001b[39;00m \u001b[38;5;28;01mimport\u001b[39;00m getenv, colored, trange\n\u001b[1;32m      4\u001b[0m \u001b[38;5;28;01mfrom\u001b[39;00m \u001b[38;5;21;01mtinygrad\u001b[39;00m\u001b[38;5;21;01m.\u001b[39;00m\u001b[38;5;21;01mnn\u001b[39;00m\u001b[38;5;21;01m.\u001b[39;00m\u001b[38;5;21;01mdatasets\u001b[39;00m \u001b[38;5;28;01mimport\u001b[39;00m mnist\n",
      "File \u001b[0;32m~/Documents/HandsOnMachineLearningStudy/.venv/lib/python3.12/site-packages/tinygrad/__init__.py:1\u001b[0m\n\u001b[0;32m----> 1\u001b[0m \u001b[38;5;28;01mfrom\u001b[39;00m \u001b[38;5;21;01mtinygrad\u001b[39;00m\u001b[38;5;21;01m.\u001b[39;00m\u001b[38;5;21;01mtensor\u001b[39;00m \u001b[38;5;28;01mimport\u001b[39;00m Tensor                            \u001b[38;5;66;03m# noqa: F401\u001b[39;00m\n\u001b[1;32m      2\u001b[0m \u001b[38;5;28;01mfrom\u001b[39;00m \u001b[38;5;21;01mtinygrad\u001b[39;00m\u001b[38;5;21;01m.\u001b[39;00m\u001b[38;5;21;01mengine\u001b[39;00m\u001b[38;5;21;01m.\u001b[39;00m\u001b[38;5;21;01mjit\u001b[39;00m \u001b[38;5;28;01mimport\u001b[39;00m TinyJit                       \u001b[38;5;66;03m# noqa: F401\u001b[39;00m\n\u001b[1;32m      3\u001b[0m \u001b[38;5;28;01mfrom\u001b[39;00m \u001b[38;5;21;01mtinygrad\u001b[39;00m\u001b[38;5;21;01m.\u001b[39;00m\u001b[38;5;21;01mshape\u001b[39;00m\u001b[38;5;21;01m.\u001b[39;00m\u001b[38;5;21;01msymbolic\u001b[39;00m \u001b[38;5;28;01mimport\u001b[39;00m Variable                  \u001b[38;5;66;03m# noqa: F401\u001b[39;00m\n",
      "File \u001b[0;32m~/Documents/HandsOnMachineLearningStudy/.venv/lib/python3.12/site-packages/tinygrad/tensor.py:10\u001b[0m\n\u001b[1;32m      7\u001b[0m \u001b[38;5;28;01mfrom\u001b[39;00m \u001b[38;5;21;01mcollections\u001b[39;00m \u001b[38;5;28;01mimport\u001b[39;00m defaultdict\n\u001b[1;32m      8\u001b[0m \u001b[38;5;28;01mimport\u001b[39;00m \u001b[38;5;21;01mnumpy\u001b[39;00m \u001b[38;5;28;01mas\u001b[39;00m \u001b[38;5;21;01mnp\u001b[39;00m\n\u001b[0;32m---> 10\u001b[0m \u001b[38;5;28;01mfrom\u001b[39;00m \u001b[38;5;21;01mtinygrad\u001b[39;00m\u001b[38;5;21;01m.\u001b[39;00m\u001b[38;5;21;01mdtype\u001b[39;00m \u001b[38;5;28;01mimport\u001b[39;00m DType, DTypeLike, dtypes, ImageDType, ConstType, least_upper_float, least_upper_dtype, sum_acc_dtype, to_dtype\n\u001b[1;32m     11\u001b[0m \u001b[38;5;28;01mfrom\u001b[39;00m \u001b[38;5;21;01mtinygrad\u001b[39;00m\u001b[38;5;21;01m.\u001b[39;00m\u001b[38;5;21;01mhelpers\u001b[39;00m \u001b[38;5;28;01mimport\u001b[39;00m argfix, make_pair, flatten, prod, all_int, round_up, merge_dicts, argsort, getenv, get_shape, fully_flatten, dedup\n\u001b[1;32m     12\u001b[0m \u001b[38;5;28;01mfrom\u001b[39;00m \u001b[38;5;21;01mtinygrad\u001b[39;00m\u001b[38;5;21;01m.\u001b[39;00m\u001b[38;5;21;01mhelpers\u001b[39;00m \u001b[38;5;28;01mimport\u001b[39;00m IMAGE, DEBUG, WINO, THREEFRY, _METADATA, Metadata, TRACEMETA\n",
      "File \u001b[0;32m~/Documents/HandsOnMachineLearningStudy/.venv/lib/python3.12/site-packages/tinygrad/dtype.py:4\u001b[0m\n\u001b[1;32m      2\u001b[0m \u001b[38;5;28;01mfrom\u001b[39;00m \u001b[38;5;21;01mdataclasses\u001b[39;00m \u001b[38;5;28;01mimport\u001b[39;00m dataclass\n\u001b[1;32m      3\u001b[0m \u001b[38;5;28;01mimport\u001b[39;00m \u001b[38;5;21;01mfunctools\u001b[39;00m\n\u001b[0;32m----> 4\u001b[0m \u001b[38;5;28;01mfrom\u001b[39;00m \u001b[38;5;21;01mtinygrad\u001b[39;00m\u001b[38;5;21;01m.\u001b[39;00m\u001b[38;5;21;01mhelpers\u001b[39;00m \u001b[38;5;28;01mimport\u001b[39;00m getenv\n\u001b[1;32m      6\u001b[0m ConstType \u001b[38;5;241m=\u001b[39m Union[\u001b[38;5;28mfloat\u001b[39m, \u001b[38;5;28mint\u001b[39m, \u001b[38;5;28mbool\u001b[39m]\n\u001b[1;32m      8\u001b[0m \u001b[38;5;129m@dataclass\u001b[39m(frozen\u001b[38;5;241m=\u001b[39m\u001b[38;5;28;01mTrue\u001b[39;00m, order\u001b[38;5;241m=\u001b[39m\u001b[38;5;28;01mTrue\u001b[39;00m)\n\u001b[1;32m      9\u001b[0m \u001b[38;5;28;01mclass\u001b[39;00m \u001b[38;5;21;01mDType\u001b[39;00m:\n",
      "File \u001b[0;32m~/Documents/HandsOnMachineLearningStudy/.venv/lib/python3.12/site-packages/tinygrad/helpers.py:106\u001b[0m\n\u001b[1;32m    103\u001b[0m   \u001b[38;5;28;01mdef\u001b[39;00m \u001b[38;5;21m__gt__\u001b[39m(\u001b[38;5;28mself\u001b[39m, x): \u001b[38;5;28;01mreturn\u001b[39;00m \u001b[38;5;28mself\u001b[39m\u001b[38;5;241m.\u001b[39mvalue \u001b[38;5;241m>\u001b[39m x\n\u001b[1;32m    104\u001b[0m   \u001b[38;5;28;01mdef\u001b[39;00m \u001b[38;5;21m__lt__\u001b[39m(\u001b[38;5;28mself\u001b[39m, x): \u001b[38;5;28;01mreturn\u001b[39;00m \u001b[38;5;28mself\u001b[39m\u001b[38;5;241m.\u001b[39mvalue \u001b[38;5;241m<\u001b[39m x\n\u001b[0;32m--> 106\u001b[0m DEBUG, IMAGE, BEAM, NOOPT, JIT \u001b[38;5;241m=\u001b[39m \u001b[43mContextVar\u001b[49m\u001b[43m(\u001b[49m\u001b[38;5;124;43m\"\u001b[39;49m\u001b[38;5;124;43mDEBUG\u001b[39;49m\u001b[38;5;124;43m\"\u001b[39;49m\u001b[43m,\u001b[49m\u001b[43m \u001b[49m\u001b[38;5;241;43m0\u001b[39;49m\u001b[43m)\u001b[49m, ContextVar(\u001b[38;5;124m\"\u001b[39m\u001b[38;5;124mIMAGE\u001b[39m\u001b[38;5;124m\"\u001b[39m, \u001b[38;5;241m0\u001b[39m), ContextVar(\u001b[38;5;124m\"\u001b[39m\u001b[38;5;124mBEAM\u001b[39m\u001b[38;5;124m\"\u001b[39m, \u001b[38;5;241m0\u001b[39m), ContextVar(\u001b[38;5;124m\"\u001b[39m\u001b[38;5;124mNOOPT\u001b[39m\u001b[38;5;124m\"\u001b[39m, \u001b[38;5;241m0\u001b[39m), ContextVar(\u001b[38;5;124m\"\u001b[39m\u001b[38;5;124mJIT\u001b[39m\u001b[38;5;124m\"\u001b[39m, \u001b[38;5;241m1\u001b[39m)\n\u001b[1;32m    107\u001b[0m WINO, THREEFRY, CAPTURING, TRACEMETA \u001b[38;5;241m=\u001b[39m ContextVar(\u001b[38;5;124m\"\u001b[39m\u001b[38;5;124mWINO\u001b[39m\u001b[38;5;124m\"\u001b[39m, \u001b[38;5;241m0\u001b[39m), ContextVar(\u001b[38;5;124m\"\u001b[39m\u001b[38;5;124mTHREEFRY\u001b[39m\u001b[38;5;124m\"\u001b[39m, \u001b[38;5;241m0\u001b[39m), ContextVar(\u001b[38;5;124m\"\u001b[39m\u001b[38;5;124mCAPTURING\u001b[39m\u001b[38;5;124m\"\u001b[39m, \u001b[38;5;241m1\u001b[39m), ContextVar(\u001b[38;5;124m\"\u001b[39m\u001b[38;5;124mTRACEMETA\u001b[39m\u001b[38;5;124m\"\u001b[39m, \u001b[38;5;241m1\u001b[39m)\n\u001b[1;32m    108\u001b[0m GRAPH, GRAPHPATH, SAVE_SCHEDULE, RING \u001b[38;5;241m=\u001b[39m ContextVar(\u001b[38;5;124m\"\u001b[39m\u001b[38;5;124mGRAPH\u001b[39m\u001b[38;5;124m\"\u001b[39m, \u001b[38;5;241m0\u001b[39m), getenv(\u001b[38;5;124m\"\u001b[39m\u001b[38;5;124mGRAPHPATH\u001b[39m\u001b[38;5;124m\"\u001b[39m, \u001b[38;5;124m\"\u001b[39m\u001b[38;5;124m/tmp/net\u001b[39m\u001b[38;5;124m\"\u001b[39m), ContextVar(\u001b[38;5;124m\"\u001b[39m\u001b[38;5;124mSAVE_SCHEDULE\u001b[39m\u001b[38;5;124m\"\u001b[39m, \u001b[38;5;241m0\u001b[39m), ContextVar(\u001b[38;5;124m\"\u001b[39m\u001b[38;5;124mRING\u001b[39m\u001b[38;5;124m\"\u001b[39m, \u001b[38;5;241m1\u001b[39m)\n",
      "File \u001b[0;32m~/Documents/HandsOnMachineLearningStudy/.venv/lib/python3.12/site-packages/tinygrad/helpers.py:99\u001b[0m, in \u001b[0;36mContextVar.__new__\u001b[0;34m(cls, key, default_value)\u001b[0m\n\u001b[1;32m     97\u001b[0m \u001b[38;5;28;01mif\u001b[39;00m key \u001b[38;5;129;01min\u001b[39;00m ContextVar\u001b[38;5;241m.\u001b[39m_cache: \u001b[38;5;28;01mreturn\u001b[39;00m ContextVar\u001b[38;5;241m.\u001b[39m_cache[key]\n\u001b[1;32m     98\u001b[0m instance \u001b[38;5;241m=\u001b[39m ContextVar\u001b[38;5;241m.\u001b[39m_cache[key] \u001b[38;5;241m=\u001b[39m \u001b[38;5;28msuper\u001b[39m()\u001b[38;5;241m.\u001b[39m\u001b[38;5;21m__new__\u001b[39m(\u001b[38;5;28mcls\u001b[39m)\n\u001b[0;32m---> 99\u001b[0m instance\u001b[38;5;241m.\u001b[39mvalue, instance\u001b[38;5;241m.\u001b[39mkey \u001b[38;5;241m=\u001b[39m \u001b[43mgetenv\u001b[49m\u001b[43m(\u001b[49m\u001b[43mkey\u001b[49m\u001b[43m,\u001b[49m\u001b[43m \u001b[49m\u001b[43mdefault_value\u001b[49m\u001b[43m)\u001b[49m, key\n\u001b[1;32m    100\u001b[0m \u001b[38;5;28;01mreturn\u001b[39;00m instance\n",
      "File \u001b[0;32m~/Documents/HandsOnMachineLearningStudy/.venv/lib/python3.12/site-packages/tinygrad/helpers.py:79\u001b[0m, in \u001b[0;36mgetenv\u001b[0;34m(key, default)\u001b[0m\n\u001b[1;32m     78\u001b[0m \u001b[38;5;129m@functools\u001b[39m\u001b[38;5;241m.\u001b[39mlru_cache(maxsize\u001b[38;5;241m=\u001b[39m\u001b[38;5;28;01mNone\u001b[39;00m)\n\u001b[0;32m---> 79\u001b[0m \u001b[38;5;28;01mdef\u001b[39;00m \u001b[38;5;21mgetenv\u001b[39m(key:\u001b[38;5;28mstr\u001b[39m, default\u001b[38;5;241m=\u001b[39m\u001b[38;5;241m0\u001b[39m): \u001b[38;5;28;01mreturn\u001b[39;00m \u001b[38;5;28;43mtype\u001b[39;49m\u001b[43m(\u001b[49m\u001b[43mdefault\u001b[49m\u001b[43m)\u001b[49m\u001b[43m(\u001b[49m\u001b[43mos\u001b[49m\u001b[38;5;241;43m.\u001b[39;49m\u001b[43mgetenv\u001b[49m\u001b[43m(\u001b[49m\u001b[43mkey\u001b[49m\u001b[43m,\u001b[49m\u001b[43m \u001b[49m\u001b[43mdefault\u001b[49m\u001b[43m)\u001b[49m\u001b[43m)\u001b[49m\n",
      "\u001b[0;31mValueError\u001b[0m: invalid literal for int() with base 10: 'WARN'"
     ]
    }
   ],
   "source": [
    "from typing import List, Callable\n",
    "from tinygrad import Tensor, TinyJit, nn, GlobalCounters\n",
    "from tinygrad.helpers import getenv, colored, trange\n",
    "from tinygrad.nn.datasets import mnist"
   ]
  },
  {
   "cell_type": "code",
   "execution_count": 7,
   "metadata": {},
   "outputs": [
    {
     "ename": "NameError",
     "evalue": "name 'Tensor' is not defined",
     "output_type": "error",
     "traceback": [
      "\u001b[0;31m---------------------------------------------------------------------------\u001b[0m",
      "\u001b[0;31mNameError\u001b[0m                                 Traceback (most recent call last)",
      "Cell \u001b[0;32mIn[7], line 1\u001b[0m\n\u001b[0;32m----> 1\u001b[0m \u001b[38;5;28;43;01mclass\u001b[39;49;00m\u001b[43m \u001b[49m\u001b[38;5;21;43;01mModel\u001b[39;49;00m\u001b[43m:\u001b[49m\n\u001b[1;32m      2\u001b[0m \u001b[43m  \u001b[49m\u001b[38;5;28;43;01mdef\u001b[39;49;00m\u001b[43m \u001b[49m\u001b[38;5;21;43m__init__\u001b[39;49m\u001b[43m(\u001b[49m\u001b[38;5;28;43mself\u001b[39;49m\u001b[43m)\u001b[49m\u001b[43m:\u001b[49m\n\u001b[1;32m      3\u001b[0m \u001b[43m    \u001b[49m\u001b[38;5;28;43mself\u001b[39;49m\u001b[38;5;241;43m.\u001b[39;49m\u001b[43mlayers\u001b[49m\u001b[43m:\u001b[49m\u001b[43m \u001b[49m\u001b[43mList\u001b[49m\u001b[43m[\u001b[49m\u001b[43mCallable\u001b[49m\u001b[43m[\u001b[49m\u001b[43m[\u001b[49m\u001b[43mTensor\u001b[49m\u001b[43m]\u001b[49m\u001b[43m,\u001b[49m\u001b[43m \u001b[49m\u001b[43mTensor\u001b[49m\u001b[43m]\u001b[49m\u001b[43m]\u001b[49m\u001b[43m \u001b[49m\u001b[38;5;241;43m=\u001b[39;49m\u001b[43m \u001b[49m\u001b[43m[\u001b[49m\n\u001b[1;32m      4\u001b[0m \u001b[43m      \u001b[49m\u001b[43mnn\u001b[49m\u001b[38;5;241;43m.\u001b[39;49m\u001b[43mConv2d\u001b[49m\u001b[43m(\u001b[49m\u001b[38;5;241;43m1\u001b[39;49m\u001b[43m,\u001b[49m\u001b[43m \u001b[49m\u001b[38;5;241;43m32\u001b[39;49m\u001b[43m,\u001b[49m\u001b[43m \u001b[49m\u001b[38;5;241;43m5\u001b[39;49m\u001b[43m)\u001b[49m\u001b[43m,\u001b[49m\u001b[43m \u001b[49m\u001b[43mTensor\u001b[49m\u001b[38;5;241;43m.\u001b[39;49m\u001b[43mrelu\u001b[49m\u001b[43m,\u001b[49m\n\u001b[1;32m      5\u001b[0m \u001b[43m      \u001b[49m\u001b[43mnn\u001b[49m\u001b[38;5;241;43m.\u001b[39;49m\u001b[43mConv2d\u001b[49m\u001b[43m(\u001b[49m\u001b[38;5;241;43m32\u001b[39;49m\u001b[43m,\u001b[49m\u001b[43m \u001b[49m\u001b[38;5;241;43m32\u001b[39;49m\u001b[43m,\u001b[49m\u001b[43m \u001b[49m\u001b[38;5;241;43m5\u001b[39;49m\u001b[43m)\u001b[49m\u001b[43m,\u001b[49m\u001b[43m \u001b[49m\u001b[43mTensor\u001b[49m\u001b[38;5;241;43m.\u001b[39;49m\u001b[43mrelu\u001b[49m\u001b[43m,\u001b[49m\n\u001b[0;32m   (...)\u001b[0m\n\u001b[1;32m      9\u001b[0m \u001b[43m      \u001b[49m\u001b[43mnn\u001b[49m\u001b[38;5;241;43m.\u001b[39;49m\u001b[43mBatchNorm\u001b[49m\u001b[43m(\u001b[49m\u001b[38;5;241;43m64\u001b[39;49m\u001b[43m)\u001b[49m\u001b[43m,\u001b[49m\u001b[43m \u001b[49m\u001b[43mTensor\u001b[49m\u001b[38;5;241;43m.\u001b[39;49m\u001b[43mmax_pool2d\u001b[49m\u001b[43m,\u001b[49m\n\u001b[1;32m     10\u001b[0m \u001b[43m      \u001b[49m\u001b[38;5;28;43;01mlambda\u001b[39;49;00m\u001b[43m \u001b[49m\u001b[43mx\u001b[49m\u001b[43m:\u001b[49m\u001b[43m \u001b[49m\u001b[43mx\u001b[49m\u001b[38;5;241;43m.\u001b[39;49m\u001b[43mflatten\u001b[49m\u001b[43m(\u001b[49m\u001b[38;5;241;43m1\u001b[39;49m\u001b[43m)\u001b[49m\u001b[43m,\u001b[49m\u001b[43m \u001b[49m\u001b[43mnn\u001b[49m\u001b[38;5;241;43m.\u001b[39;49m\u001b[43mLinear\u001b[49m\u001b[43m(\u001b[49m\u001b[38;5;241;43m576\u001b[39;49m\u001b[43m,\u001b[49m\u001b[43m \u001b[49m\u001b[38;5;241;43m10\u001b[39;49m\u001b[43m)\u001b[49m\u001b[43m]\u001b[49m\n",
      "Cell \u001b[0;32mIn[7], line 12\u001b[0m, in \u001b[0;36mModel\u001b[0;34m()\u001b[0m\n\u001b[1;32m      2\u001b[0m \u001b[38;5;28;01mdef\u001b[39;00m \u001b[38;5;21m__init__\u001b[39m(\u001b[38;5;28mself\u001b[39m):\n\u001b[1;32m      3\u001b[0m   \u001b[38;5;28mself\u001b[39m\u001b[38;5;241m.\u001b[39mlayers: List[Callable[[Tensor], Tensor]] \u001b[38;5;241m=\u001b[39m [\n\u001b[1;32m      4\u001b[0m     nn\u001b[38;5;241m.\u001b[39mConv2d(\u001b[38;5;241m1\u001b[39m, \u001b[38;5;241m32\u001b[39m, \u001b[38;5;241m5\u001b[39m), Tensor\u001b[38;5;241m.\u001b[39mrelu,\n\u001b[1;32m      5\u001b[0m     nn\u001b[38;5;241m.\u001b[39mConv2d(\u001b[38;5;241m32\u001b[39m, \u001b[38;5;241m32\u001b[39m, \u001b[38;5;241m5\u001b[39m), Tensor\u001b[38;5;241m.\u001b[39mrelu,\n\u001b[0;32m   (...)\u001b[0m\n\u001b[1;32m      9\u001b[0m     nn\u001b[38;5;241m.\u001b[39mBatchNorm(\u001b[38;5;241m64\u001b[39m), Tensor\u001b[38;5;241m.\u001b[39mmax_pool2d,\n\u001b[1;32m     10\u001b[0m     \u001b[38;5;28;01mlambda\u001b[39;00m x: x\u001b[38;5;241m.\u001b[39mflatten(\u001b[38;5;241m1\u001b[39m), nn\u001b[38;5;241m.\u001b[39mLinear(\u001b[38;5;241m576\u001b[39m, \u001b[38;5;241m10\u001b[39m)]\n\u001b[0;32m---> 12\u001b[0m \u001b[38;5;28;01mdef\u001b[39;00m \u001b[38;5;21m__call__\u001b[39m(\u001b[38;5;28mself\u001b[39m, x:\u001b[43mTensor\u001b[49m) \u001b[38;5;241m-\u001b[39m\u001b[38;5;241m>\u001b[39m Tensor: \u001b[38;5;28;01mreturn\u001b[39;00m x\u001b[38;5;241m.\u001b[39msequential(\u001b[38;5;28mself\u001b[39m\u001b[38;5;241m.\u001b[39mlayers)\n",
      "\u001b[0;31mNameError\u001b[0m: name 'Tensor' is not defined"
     ]
    }
   ],
   "source": [
    "class Model:\n",
    "  def __init__(self):\n",
    "    self.layers: List[Callable[[Tensor], Tensor]] = [\n",
    "      nn.Conv2d(1, 32, 5), Tensor.relu,\n",
    "      nn.Conv2d(32, 32, 5), Tensor.relu,\n",
    "      nn.BatchNorm(32), Tensor.max_pool2d,\n",
    "      nn.Conv2d(32, 64, 3), Tensor.relu,\n",
    "      nn.Conv2d(64, 64, 3), Tensor.relu,\n",
    "      nn.BatchNorm(64), Tensor.max_pool2d,\n",
    "      lambda x: x.flatten(1), nn.Linear(576, 10)]\n",
    "\n",
    "  def __call__(self, x:Tensor) -> Tensor: return x.sequential(self.layers)\n",
    "\n"
   ]
  },
  {
   "cell_type": "code",
   "execution_count": 8,
   "metadata": {},
   "outputs": [
    {
     "ename": "ValueError",
     "evalue": "invalid literal for int() with base 10: 'WARN'",
     "output_type": "error",
     "traceback": [
      "\u001b[0;31m---------------------------------------------------------------------------\u001b[0m",
      "\u001b[0;31mValueError\u001b[0m                                Traceback (most recent call last)",
      "Cell \u001b[0;32mIn[8], line 3\u001b[0m\n\u001b[1;32m      1\u001b[0m \u001b[38;5;66;03m# model based off https://towardsdatascience.com/going-beyond-99-mnist-handwritten-digits-recognition-cfff96337392\u001b[39;00m\n\u001b[1;32m      2\u001b[0m \u001b[38;5;28;01mfrom\u001b[39;00m \u001b[38;5;21;01mtyping\u001b[39;00m \u001b[38;5;28;01mimport\u001b[39;00m List, Callable\n\u001b[0;32m----> 3\u001b[0m \u001b[38;5;28;01mfrom\u001b[39;00m \u001b[38;5;21;01mtinygrad\u001b[39;00m \u001b[38;5;28;01mimport\u001b[39;00m Tensor, TinyJit, nn, GlobalCounters\n\u001b[1;32m      4\u001b[0m \u001b[38;5;28;01mfrom\u001b[39;00m \u001b[38;5;21;01mtinygrad\u001b[39;00m\u001b[38;5;21;01m.\u001b[39;00m\u001b[38;5;21;01mhelpers\u001b[39;00m \u001b[38;5;28;01mimport\u001b[39;00m getenv, colored, trange\n\u001b[1;32m      5\u001b[0m \u001b[38;5;28;01mfrom\u001b[39;00m \u001b[38;5;21;01mtinygrad\u001b[39;00m\u001b[38;5;21;01m.\u001b[39;00m\u001b[38;5;21;01mnn\u001b[39;00m\u001b[38;5;21;01m.\u001b[39;00m\u001b[38;5;21;01mdatasets\u001b[39;00m \u001b[38;5;28;01mimport\u001b[39;00m mnist\n",
      "File \u001b[0;32m~/Documents/HandsOnMachineLearningStudy/.venv/lib/python3.12/site-packages/tinygrad/__init__.py:1\u001b[0m\n\u001b[0;32m----> 1\u001b[0m \u001b[38;5;28;01mfrom\u001b[39;00m \u001b[38;5;21;01mtinygrad\u001b[39;00m\u001b[38;5;21;01m.\u001b[39;00m\u001b[38;5;21;01mtensor\u001b[39;00m \u001b[38;5;28;01mimport\u001b[39;00m Tensor                            \u001b[38;5;66;03m# noqa: F401\u001b[39;00m\n\u001b[1;32m      2\u001b[0m \u001b[38;5;28;01mfrom\u001b[39;00m \u001b[38;5;21;01mtinygrad\u001b[39;00m\u001b[38;5;21;01m.\u001b[39;00m\u001b[38;5;21;01mengine\u001b[39;00m\u001b[38;5;21;01m.\u001b[39;00m\u001b[38;5;21;01mjit\u001b[39;00m \u001b[38;5;28;01mimport\u001b[39;00m TinyJit                       \u001b[38;5;66;03m# noqa: F401\u001b[39;00m\n\u001b[1;32m      3\u001b[0m \u001b[38;5;28;01mfrom\u001b[39;00m \u001b[38;5;21;01mtinygrad\u001b[39;00m\u001b[38;5;21;01m.\u001b[39;00m\u001b[38;5;21;01mshape\u001b[39;00m\u001b[38;5;21;01m.\u001b[39;00m\u001b[38;5;21;01msymbolic\u001b[39;00m \u001b[38;5;28;01mimport\u001b[39;00m Variable                  \u001b[38;5;66;03m# noqa: F401\u001b[39;00m\n",
      "File \u001b[0;32m~/Documents/HandsOnMachineLearningStudy/.venv/lib/python3.12/site-packages/tinygrad/tensor.py:10\u001b[0m\n\u001b[1;32m      7\u001b[0m \u001b[38;5;28;01mfrom\u001b[39;00m \u001b[38;5;21;01mcollections\u001b[39;00m \u001b[38;5;28;01mimport\u001b[39;00m defaultdict\n\u001b[1;32m      8\u001b[0m \u001b[38;5;28;01mimport\u001b[39;00m \u001b[38;5;21;01mnumpy\u001b[39;00m \u001b[38;5;28;01mas\u001b[39;00m \u001b[38;5;21;01mnp\u001b[39;00m\n\u001b[0;32m---> 10\u001b[0m \u001b[38;5;28;01mfrom\u001b[39;00m \u001b[38;5;21;01mtinygrad\u001b[39;00m\u001b[38;5;21;01m.\u001b[39;00m\u001b[38;5;21;01mdtype\u001b[39;00m \u001b[38;5;28;01mimport\u001b[39;00m DType, DTypeLike, dtypes, ImageDType, ConstType, least_upper_float, least_upper_dtype, sum_acc_dtype, to_dtype\n\u001b[1;32m     11\u001b[0m \u001b[38;5;28;01mfrom\u001b[39;00m \u001b[38;5;21;01mtinygrad\u001b[39;00m\u001b[38;5;21;01m.\u001b[39;00m\u001b[38;5;21;01mhelpers\u001b[39;00m \u001b[38;5;28;01mimport\u001b[39;00m argfix, make_pair, flatten, prod, all_int, round_up, merge_dicts, argsort, getenv, get_shape, fully_flatten, dedup\n\u001b[1;32m     12\u001b[0m \u001b[38;5;28;01mfrom\u001b[39;00m \u001b[38;5;21;01mtinygrad\u001b[39;00m\u001b[38;5;21;01m.\u001b[39;00m\u001b[38;5;21;01mhelpers\u001b[39;00m \u001b[38;5;28;01mimport\u001b[39;00m IMAGE, DEBUG, WINO, THREEFRY, _METADATA, Metadata, TRACEMETA\n",
      "File \u001b[0;32m~/Documents/HandsOnMachineLearningStudy/.venv/lib/python3.12/site-packages/tinygrad/dtype.py:4\u001b[0m\n\u001b[1;32m      2\u001b[0m \u001b[38;5;28;01mfrom\u001b[39;00m \u001b[38;5;21;01mdataclasses\u001b[39;00m \u001b[38;5;28;01mimport\u001b[39;00m dataclass\n\u001b[1;32m      3\u001b[0m \u001b[38;5;28;01mimport\u001b[39;00m \u001b[38;5;21;01mfunctools\u001b[39;00m\n\u001b[0;32m----> 4\u001b[0m \u001b[38;5;28;01mfrom\u001b[39;00m \u001b[38;5;21;01mtinygrad\u001b[39;00m\u001b[38;5;21;01m.\u001b[39;00m\u001b[38;5;21;01mhelpers\u001b[39;00m \u001b[38;5;28;01mimport\u001b[39;00m getenv\n\u001b[1;32m      6\u001b[0m ConstType \u001b[38;5;241m=\u001b[39m Union[\u001b[38;5;28mfloat\u001b[39m, \u001b[38;5;28mint\u001b[39m, \u001b[38;5;28mbool\u001b[39m]\n\u001b[1;32m      8\u001b[0m \u001b[38;5;129m@dataclass\u001b[39m(frozen\u001b[38;5;241m=\u001b[39m\u001b[38;5;28;01mTrue\u001b[39;00m, order\u001b[38;5;241m=\u001b[39m\u001b[38;5;28;01mTrue\u001b[39;00m)\n\u001b[1;32m      9\u001b[0m \u001b[38;5;28;01mclass\u001b[39;00m \u001b[38;5;21;01mDType\u001b[39;00m:\n",
      "File \u001b[0;32m~/Documents/HandsOnMachineLearningStudy/.venv/lib/python3.12/site-packages/tinygrad/helpers.py:106\u001b[0m\n\u001b[1;32m    103\u001b[0m   \u001b[38;5;28;01mdef\u001b[39;00m \u001b[38;5;21m__gt__\u001b[39m(\u001b[38;5;28mself\u001b[39m, x): \u001b[38;5;28;01mreturn\u001b[39;00m \u001b[38;5;28mself\u001b[39m\u001b[38;5;241m.\u001b[39mvalue \u001b[38;5;241m>\u001b[39m x\n\u001b[1;32m    104\u001b[0m   \u001b[38;5;28;01mdef\u001b[39;00m \u001b[38;5;21m__lt__\u001b[39m(\u001b[38;5;28mself\u001b[39m, x): \u001b[38;5;28;01mreturn\u001b[39;00m \u001b[38;5;28mself\u001b[39m\u001b[38;5;241m.\u001b[39mvalue \u001b[38;5;241m<\u001b[39m x\n\u001b[0;32m--> 106\u001b[0m DEBUG, IMAGE, BEAM, NOOPT, JIT \u001b[38;5;241m=\u001b[39m \u001b[43mContextVar\u001b[49m\u001b[43m(\u001b[49m\u001b[38;5;124;43m\"\u001b[39;49m\u001b[38;5;124;43mDEBUG\u001b[39;49m\u001b[38;5;124;43m\"\u001b[39;49m\u001b[43m,\u001b[49m\u001b[43m \u001b[49m\u001b[38;5;241;43m0\u001b[39;49m\u001b[43m)\u001b[49m, ContextVar(\u001b[38;5;124m\"\u001b[39m\u001b[38;5;124mIMAGE\u001b[39m\u001b[38;5;124m\"\u001b[39m, \u001b[38;5;241m0\u001b[39m), ContextVar(\u001b[38;5;124m\"\u001b[39m\u001b[38;5;124mBEAM\u001b[39m\u001b[38;5;124m\"\u001b[39m, \u001b[38;5;241m0\u001b[39m), ContextVar(\u001b[38;5;124m\"\u001b[39m\u001b[38;5;124mNOOPT\u001b[39m\u001b[38;5;124m\"\u001b[39m, \u001b[38;5;241m0\u001b[39m), ContextVar(\u001b[38;5;124m\"\u001b[39m\u001b[38;5;124mJIT\u001b[39m\u001b[38;5;124m\"\u001b[39m, \u001b[38;5;241m1\u001b[39m)\n\u001b[1;32m    107\u001b[0m WINO, THREEFRY, CAPTURING, TRACEMETA \u001b[38;5;241m=\u001b[39m ContextVar(\u001b[38;5;124m\"\u001b[39m\u001b[38;5;124mWINO\u001b[39m\u001b[38;5;124m\"\u001b[39m, \u001b[38;5;241m0\u001b[39m), ContextVar(\u001b[38;5;124m\"\u001b[39m\u001b[38;5;124mTHREEFRY\u001b[39m\u001b[38;5;124m\"\u001b[39m, \u001b[38;5;241m0\u001b[39m), ContextVar(\u001b[38;5;124m\"\u001b[39m\u001b[38;5;124mCAPTURING\u001b[39m\u001b[38;5;124m\"\u001b[39m, \u001b[38;5;241m1\u001b[39m), ContextVar(\u001b[38;5;124m\"\u001b[39m\u001b[38;5;124mTRACEMETA\u001b[39m\u001b[38;5;124m\"\u001b[39m, \u001b[38;5;241m1\u001b[39m)\n\u001b[1;32m    108\u001b[0m GRAPH, GRAPHPATH, SAVE_SCHEDULE, RING \u001b[38;5;241m=\u001b[39m ContextVar(\u001b[38;5;124m\"\u001b[39m\u001b[38;5;124mGRAPH\u001b[39m\u001b[38;5;124m\"\u001b[39m, \u001b[38;5;241m0\u001b[39m), getenv(\u001b[38;5;124m\"\u001b[39m\u001b[38;5;124mGRAPHPATH\u001b[39m\u001b[38;5;124m\"\u001b[39m, \u001b[38;5;124m\"\u001b[39m\u001b[38;5;124m/tmp/net\u001b[39m\u001b[38;5;124m\"\u001b[39m), ContextVar(\u001b[38;5;124m\"\u001b[39m\u001b[38;5;124mSAVE_SCHEDULE\u001b[39m\u001b[38;5;124m\"\u001b[39m, \u001b[38;5;241m0\u001b[39m), ContextVar(\u001b[38;5;124m\"\u001b[39m\u001b[38;5;124mRING\u001b[39m\u001b[38;5;124m\"\u001b[39m, \u001b[38;5;241m1\u001b[39m)\n",
      "File \u001b[0;32m~/Documents/HandsOnMachineLearningStudy/.venv/lib/python3.12/site-packages/tinygrad/helpers.py:99\u001b[0m, in \u001b[0;36mContextVar.__new__\u001b[0;34m(cls, key, default_value)\u001b[0m\n\u001b[1;32m     97\u001b[0m \u001b[38;5;28;01mif\u001b[39;00m key \u001b[38;5;129;01min\u001b[39;00m ContextVar\u001b[38;5;241m.\u001b[39m_cache: \u001b[38;5;28;01mreturn\u001b[39;00m ContextVar\u001b[38;5;241m.\u001b[39m_cache[key]\n\u001b[1;32m     98\u001b[0m instance \u001b[38;5;241m=\u001b[39m ContextVar\u001b[38;5;241m.\u001b[39m_cache[key] \u001b[38;5;241m=\u001b[39m \u001b[38;5;28msuper\u001b[39m()\u001b[38;5;241m.\u001b[39m\u001b[38;5;21m__new__\u001b[39m(\u001b[38;5;28mcls\u001b[39m)\n\u001b[0;32m---> 99\u001b[0m instance\u001b[38;5;241m.\u001b[39mvalue, instance\u001b[38;5;241m.\u001b[39mkey \u001b[38;5;241m=\u001b[39m \u001b[43mgetenv\u001b[49m\u001b[43m(\u001b[49m\u001b[43mkey\u001b[49m\u001b[43m,\u001b[49m\u001b[43m \u001b[49m\u001b[43mdefault_value\u001b[49m\u001b[43m)\u001b[49m, key\n\u001b[1;32m    100\u001b[0m \u001b[38;5;28;01mreturn\u001b[39;00m instance\n",
      "File \u001b[0;32m~/Documents/HandsOnMachineLearningStudy/.venv/lib/python3.12/site-packages/tinygrad/helpers.py:79\u001b[0m, in \u001b[0;36mgetenv\u001b[0;34m(key, default)\u001b[0m\n\u001b[1;32m     78\u001b[0m \u001b[38;5;129m@functools\u001b[39m\u001b[38;5;241m.\u001b[39mlru_cache(maxsize\u001b[38;5;241m=\u001b[39m\u001b[38;5;28;01mNone\u001b[39;00m)\n\u001b[0;32m---> 79\u001b[0m \u001b[38;5;28;01mdef\u001b[39;00m \u001b[38;5;21mgetenv\u001b[39m(key:\u001b[38;5;28mstr\u001b[39m, default\u001b[38;5;241m=\u001b[39m\u001b[38;5;241m0\u001b[39m): \u001b[38;5;28;01mreturn\u001b[39;00m \u001b[38;5;28;43mtype\u001b[39;49m\u001b[43m(\u001b[49m\u001b[43mdefault\u001b[49m\u001b[43m)\u001b[49m\u001b[43m(\u001b[49m\u001b[43mos\u001b[49m\u001b[38;5;241;43m.\u001b[39;49m\u001b[43mgetenv\u001b[49m\u001b[43m(\u001b[49m\u001b[43mkey\u001b[49m\u001b[43m,\u001b[49m\u001b[43m \u001b[49m\u001b[43mdefault\u001b[49m\u001b[43m)\u001b[49m\u001b[43m)\u001b[49m\n",
      "\u001b[0;31mValueError\u001b[0m: invalid literal for int() with base 10: 'WARN'"
     ]
    }
   ],
   "source": [
    "# model based off https://towardsdatascience.com/going-beyond-99-mnist-handwritten-digits-recognition-cfff96337392\n",
    "from typing import List, Callable\n",
    "from tinygrad import Tensor, TinyJit, nn, GlobalCounters\n",
    "from tinygrad.helpers import getenv, colored, trange\n",
    "from tinygrad.nn.datasets import mnist\n",
    "\n",
    "class Model:\n",
    "  def __init__(self):\n",
    "    self.layers: List[Callable[[Tensor], Tensor]] = [\n",
    "      nn.Conv2d(1, 32, 5), Tensor.relu,\n",
    "      nn.Conv2d(32, 32, 5), Tensor.relu,\n",
    "      nn.BatchNorm(32), Tensor.max_pool2d,\n",
    "      nn.Conv2d(32, 64, 3), Tensor.relu,\n",
    "      nn.Conv2d(64, 64, 3), Tensor.relu,\n",
    "      nn.BatchNorm(64), Tensor.max_pool2d,\n",
    "      lambda x: x.flatten(1), nn.Linear(576, 10)]\n",
    "\n",
    "  def __call__(self, x:Tensor) -> Tensor: return x.sequential(self.layers)\n",
    "\n",
    "if __name__ == \"__main__\":\n",
    "  X_train, Y_train, X_test, Y_test = mnist()\n",
    "\n",
    "  model = Model()\n",
    "  opt = nn.optim.Adam(nn.state.get_parameters(model))\n",
    "\n",
    "  @TinyJit\n",
    "  @Tensor.train()\n",
    "  def train_step() -> Tensor:\n",
    "    opt.zero_grad()\n",
    "    samples = Tensor.randint(getenv(\"BS\", 512), high=X_train.shape[0])\n",
    "    # TODO: this \"gather\" of samples is very slow. will be under 5s when this is fixed\n",
    "    loss = model(X_train[samples]).sparse_categorical_crossentropy(Y_train[samples]).backward()\n",
    "    opt.step()\n",
    "    return loss\n",
    "\n",
    "  @TinyJit\n",
    "  @Tensor.test()\n",
    "  def get_test_acc() -> Tensor: return (model(X_test).argmax(axis=1) == Y_test).mean()*100\n",
    "\n",
    "  test_acc = float('nan')\n",
    "  for i in (t:=trange(getenv(\"STEPS\", 70))):\n",
    "    GlobalCounters.reset()   # NOTE: this makes it nice for DEBUG=2 timing\n",
    "    loss = train_step()\n",
    "    if i%10 == 9: test_acc = get_test_acc().item()\n",
    "    t.set_description(f\"loss: {loss.item():6.2f} test_accuracy: {test_acc:5.2f}%\")\n",
    "\n",
    "  # verify eval acc\n",
    "  if target := getenv(\"TARGET_EVAL_ACC_PCT\", 0.0):\n",
    "    if test_acc >= target and test_acc != 100.0: print(colored(f\"{test_acc=} >= {target}\", \"green\"))\n",
    "    else: raise ValueError(colored(f\"{test_acc=} < {target}\", \"red\"))"
   ]
  },
  {
   "cell_type": "code",
   "execution_count": 10,
   "metadata": {},
   "outputs": [
    {
     "ename": "ValueError",
     "evalue": "invalid literal for int() with base 10: 'WARN'",
     "output_type": "error",
     "traceback": [
      "\u001b[0;31m---------------------------------------------------------------------------\u001b[0m",
      "\u001b[0;31mValueError\u001b[0m                                Traceback (most recent call last)",
      "Cell \u001b[0;32mIn[10], line 3\u001b[0m\n\u001b[1;32m      1\u001b[0m \u001b[38;5;28;01mimport\u001b[39;00m \u001b[38;5;21;01mos\u001b[39;00m\n\u001b[1;32m      2\u001b[0m \u001b[38;5;28;01mfrom\u001b[39;00m \u001b[38;5;21;01mtyping\u001b[39;00m \u001b[38;5;28;01mimport\u001b[39;00m List, Callable\n\u001b[0;32m----> 3\u001b[0m \u001b[38;5;28;01mfrom\u001b[39;00m \u001b[38;5;21;01mtinygrad\u001b[39;00m \u001b[38;5;28;01mimport\u001b[39;00m Tensor, TinyJit, nn, GlobalCounters\n\u001b[1;32m      4\u001b[0m \u001b[38;5;28;01mfrom\u001b[39;00m \u001b[38;5;21;01mtinygrad\u001b[39;00m\u001b[38;5;21;01m.\u001b[39;00m\u001b[38;5;21;01mhelpers\u001b[39;00m \u001b[38;5;28;01mimport\u001b[39;00m colored, trange\n\u001b[1;32m      5\u001b[0m \u001b[38;5;28;01mfrom\u001b[39;00m \u001b[38;5;21;01mtinygrad\u001b[39;00m\u001b[38;5;21;01m.\u001b[39;00m\u001b[38;5;21;01mnn\u001b[39;00m\u001b[38;5;21;01m.\u001b[39;00m\u001b[38;5;21;01mdatasets\u001b[39;00m \u001b[38;5;28;01mimport\u001b[39;00m mnist\n",
      "File \u001b[0;32m~/Documents/HandsOnMachineLearningStudy/.venv/lib/python3.12/site-packages/tinygrad/__init__.py:1\u001b[0m\n\u001b[0;32m----> 1\u001b[0m \u001b[38;5;28;01mfrom\u001b[39;00m \u001b[38;5;21;01mtinygrad\u001b[39;00m\u001b[38;5;21;01m.\u001b[39;00m\u001b[38;5;21;01mtensor\u001b[39;00m \u001b[38;5;28;01mimport\u001b[39;00m Tensor                            \u001b[38;5;66;03m# noqa: F401\u001b[39;00m\n\u001b[1;32m      2\u001b[0m \u001b[38;5;28;01mfrom\u001b[39;00m \u001b[38;5;21;01mtinygrad\u001b[39;00m\u001b[38;5;21;01m.\u001b[39;00m\u001b[38;5;21;01mengine\u001b[39;00m\u001b[38;5;21;01m.\u001b[39;00m\u001b[38;5;21;01mjit\u001b[39;00m \u001b[38;5;28;01mimport\u001b[39;00m TinyJit                       \u001b[38;5;66;03m# noqa: F401\u001b[39;00m\n\u001b[1;32m      3\u001b[0m \u001b[38;5;28;01mfrom\u001b[39;00m \u001b[38;5;21;01mtinygrad\u001b[39;00m\u001b[38;5;21;01m.\u001b[39;00m\u001b[38;5;21;01mshape\u001b[39;00m\u001b[38;5;21;01m.\u001b[39;00m\u001b[38;5;21;01msymbolic\u001b[39;00m \u001b[38;5;28;01mimport\u001b[39;00m Variable                  \u001b[38;5;66;03m# noqa: F401\u001b[39;00m\n",
      "File \u001b[0;32m~/Documents/HandsOnMachineLearningStudy/.venv/lib/python3.12/site-packages/tinygrad/tensor.py:10\u001b[0m\n\u001b[1;32m      7\u001b[0m \u001b[38;5;28;01mfrom\u001b[39;00m \u001b[38;5;21;01mcollections\u001b[39;00m \u001b[38;5;28;01mimport\u001b[39;00m defaultdict\n\u001b[1;32m      8\u001b[0m \u001b[38;5;28;01mimport\u001b[39;00m \u001b[38;5;21;01mnumpy\u001b[39;00m \u001b[38;5;28;01mas\u001b[39;00m \u001b[38;5;21;01mnp\u001b[39;00m\n\u001b[0;32m---> 10\u001b[0m \u001b[38;5;28;01mfrom\u001b[39;00m \u001b[38;5;21;01mtinygrad\u001b[39;00m\u001b[38;5;21;01m.\u001b[39;00m\u001b[38;5;21;01mdtype\u001b[39;00m \u001b[38;5;28;01mimport\u001b[39;00m DType, DTypeLike, dtypes, ImageDType, ConstType, least_upper_float, least_upper_dtype, sum_acc_dtype, to_dtype\n\u001b[1;32m     11\u001b[0m \u001b[38;5;28;01mfrom\u001b[39;00m \u001b[38;5;21;01mtinygrad\u001b[39;00m\u001b[38;5;21;01m.\u001b[39;00m\u001b[38;5;21;01mhelpers\u001b[39;00m \u001b[38;5;28;01mimport\u001b[39;00m argfix, make_pair, flatten, prod, all_int, round_up, merge_dicts, argsort, getenv, get_shape, fully_flatten, dedup\n\u001b[1;32m     12\u001b[0m \u001b[38;5;28;01mfrom\u001b[39;00m \u001b[38;5;21;01mtinygrad\u001b[39;00m\u001b[38;5;21;01m.\u001b[39;00m\u001b[38;5;21;01mhelpers\u001b[39;00m \u001b[38;5;28;01mimport\u001b[39;00m IMAGE, DEBUG, WINO, THREEFRY, _METADATA, Metadata, TRACEMETA\n",
      "File \u001b[0;32m~/Documents/HandsOnMachineLearningStudy/.venv/lib/python3.12/site-packages/tinygrad/dtype.py:4\u001b[0m\n\u001b[1;32m      2\u001b[0m \u001b[38;5;28;01mfrom\u001b[39;00m \u001b[38;5;21;01mdataclasses\u001b[39;00m \u001b[38;5;28;01mimport\u001b[39;00m dataclass\n\u001b[1;32m      3\u001b[0m \u001b[38;5;28;01mimport\u001b[39;00m \u001b[38;5;21;01mfunctools\u001b[39;00m\n\u001b[0;32m----> 4\u001b[0m \u001b[38;5;28;01mfrom\u001b[39;00m \u001b[38;5;21;01mtinygrad\u001b[39;00m\u001b[38;5;21;01m.\u001b[39;00m\u001b[38;5;21;01mhelpers\u001b[39;00m \u001b[38;5;28;01mimport\u001b[39;00m getenv\n\u001b[1;32m      6\u001b[0m ConstType \u001b[38;5;241m=\u001b[39m Union[\u001b[38;5;28mfloat\u001b[39m, \u001b[38;5;28mint\u001b[39m, \u001b[38;5;28mbool\u001b[39m]\n\u001b[1;32m      8\u001b[0m \u001b[38;5;129m@dataclass\u001b[39m(frozen\u001b[38;5;241m=\u001b[39m\u001b[38;5;28;01mTrue\u001b[39;00m, order\u001b[38;5;241m=\u001b[39m\u001b[38;5;28;01mTrue\u001b[39;00m)\n\u001b[1;32m      9\u001b[0m \u001b[38;5;28;01mclass\u001b[39;00m \u001b[38;5;21;01mDType\u001b[39;00m:\n",
      "File \u001b[0;32m~/Documents/HandsOnMachineLearningStudy/.venv/lib/python3.12/site-packages/tinygrad/helpers.py:106\u001b[0m\n\u001b[1;32m    103\u001b[0m   \u001b[38;5;28;01mdef\u001b[39;00m \u001b[38;5;21m__gt__\u001b[39m(\u001b[38;5;28mself\u001b[39m, x): \u001b[38;5;28;01mreturn\u001b[39;00m \u001b[38;5;28mself\u001b[39m\u001b[38;5;241m.\u001b[39mvalue \u001b[38;5;241m>\u001b[39m x\n\u001b[1;32m    104\u001b[0m   \u001b[38;5;28;01mdef\u001b[39;00m \u001b[38;5;21m__lt__\u001b[39m(\u001b[38;5;28mself\u001b[39m, x): \u001b[38;5;28;01mreturn\u001b[39;00m \u001b[38;5;28mself\u001b[39m\u001b[38;5;241m.\u001b[39mvalue \u001b[38;5;241m<\u001b[39m x\n\u001b[0;32m--> 106\u001b[0m DEBUG, IMAGE, BEAM, NOOPT, JIT \u001b[38;5;241m=\u001b[39m \u001b[43mContextVar\u001b[49m\u001b[43m(\u001b[49m\u001b[38;5;124;43m\"\u001b[39;49m\u001b[38;5;124;43mDEBUG\u001b[39;49m\u001b[38;5;124;43m\"\u001b[39;49m\u001b[43m,\u001b[49m\u001b[43m \u001b[49m\u001b[38;5;241;43m0\u001b[39;49m\u001b[43m)\u001b[49m, ContextVar(\u001b[38;5;124m\"\u001b[39m\u001b[38;5;124mIMAGE\u001b[39m\u001b[38;5;124m\"\u001b[39m, \u001b[38;5;241m0\u001b[39m), ContextVar(\u001b[38;5;124m\"\u001b[39m\u001b[38;5;124mBEAM\u001b[39m\u001b[38;5;124m\"\u001b[39m, \u001b[38;5;241m0\u001b[39m), ContextVar(\u001b[38;5;124m\"\u001b[39m\u001b[38;5;124mNOOPT\u001b[39m\u001b[38;5;124m\"\u001b[39m, \u001b[38;5;241m0\u001b[39m), ContextVar(\u001b[38;5;124m\"\u001b[39m\u001b[38;5;124mJIT\u001b[39m\u001b[38;5;124m\"\u001b[39m, \u001b[38;5;241m1\u001b[39m)\n\u001b[1;32m    107\u001b[0m WINO, THREEFRY, CAPTURING, TRACEMETA \u001b[38;5;241m=\u001b[39m ContextVar(\u001b[38;5;124m\"\u001b[39m\u001b[38;5;124mWINO\u001b[39m\u001b[38;5;124m\"\u001b[39m, \u001b[38;5;241m0\u001b[39m), ContextVar(\u001b[38;5;124m\"\u001b[39m\u001b[38;5;124mTHREEFRY\u001b[39m\u001b[38;5;124m\"\u001b[39m, \u001b[38;5;241m0\u001b[39m), ContextVar(\u001b[38;5;124m\"\u001b[39m\u001b[38;5;124mCAPTURING\u001b[39m\u001b[38;5;124m\"\u001b[39m, \u001b[38;5;241m1\u001b[39m), ContextVar(\u001b[38;5;124m\"\u001b[39m\u001b[38;5;124mTRACEMETA\u001b[39m\u001b[38;5;124m\"\u001b[39m, \u001b[38;5;241m1\u001b[39m)\n\u001b[1;32m    108\u001b[0m GRAPH, GRAPHPATH, SAVE_SCHEDULE, RING \u001b[38;5;241m=\u001b[39m ContextVar(\u001b[38;5;124m\"\u001b[39m\u001b[38;5;124mGRAPH\u001b[39m\u001b[38;5;124m\"\u001b[39m, \u001b[38;5;241m0\u001b[39m), getenv(\u001b[38;5;124m\"\u001b[39m\u001b[38;5;124mGRAPHPATH\u001b[39m\u001b[38;5;124m\"\u001b[39m, \u001b[38;5;124m\"\u001b[39m\u001b[38;5;124m/tmp/net\u001b[39m\u001b[38;5;124m\"\u001b[39m), ContextVar(\u001b[38;5;124m\"\u001b[39m\u001b[38;5;124mSAVE_SCHEDULE\u001b[39m\u001b[38;5;124m\"\u001b[39m, \u001b[38;5;241m0\u001b[39m), ContextVar(\u001b[38;5;124m\"\u001b[39m\u001b[38;5;124mRING\u001b[39m\u001b[38;5;124m\"\u001b[39m, \u001b[38;5;241m1\u001b[39m)\n",
      "File \u001b[0;32m~/Documents/HandsOnMachineLearningStudy/.venv/lib/python3.12/site-packages/tinygrad/helpers.py:99\u001b[0m, in \u001b[0;36mContextVar.__new__\u001b[0;34m(cls, key, default_value)\u001b[0m\n\u001b[1;32m     97\u001b[0m \u001b[38;5;28;01mif\u001b[39;00m key \u001b[38;5;129;01min\u001b[39;00m ContextVar\u001b[38;5;241m.\u001b[39m_cache: \u001b[38;5;28;01mreturn\u001b[39;00m ContextVar\u001b[38;5;241m.\u001b[39m_cache[key]\n\u001b[1;32m     98\u001b[0m instance \u001b[38;5;241m=\u001b[39m ContextVar\u001b[38;5;241m.\u001b[39m_cache[key] \u001b[38;5;241m=\u001b[39m \u001b[38;5;28msuper\u001b[39m()\u001b[38;5;241m.\u001b[39m\u001b[38;5;21m__new__\u001b[39m(\u001b[38;5;28mcls\u001b[39m)\n\u001b[0;32m---> 99\u001b[0m instance\u001b[38;5;241m.\u001b[39mvalue, instance\u001b[38;5;241m.\u001b[39mkey \u001b[38;5;241m=\u001b[39m \u001b[43mgetenv\u001b[49m\u001b[43m(\u001b[49m\u001b[43mkey\u001b[49m\u001b[43m,\u001b[49m\u001b[43m \u001b[49m\u001b[43mdefault_value\u001b[49m\u001b[43m)\u001b[49m, key\n\u001b[1;32m    100\u001b[0m \u001b[38;5;28;01mreturn\u001b[39;00m instance\n",
      "File \u001b[0;32m~/Documents/HandsOnMachineLearningStudy/.venv/lib/python3.12/site-packages/tinygrad/helpers.py:79\u001b[0m, in \u001b[0;36mgetenv\u001b[0;34m(key, default)\u001b[0m\n\u001b[1;32m     78\u001b[0m \u001b[38;5;129m@functools\u001b[39m\u001b[38;5;241m.\u001b[39mlru_cache(maxsize\u001b[38;5;241m=\u001b[39m\u001b[38;5;28;01mNone\u001b[39;00m)\n\u001b[0;32m---> 79\u001b[0m \u001b[38;5;28;01mdef\u001b[39;00m \u001b[38;5;21mgetenv\u001b[39m(key:\u001b[38;5;28mstr\u001b[39m, default\u001b[38;5;241m=\u001b[39m\u001b[38;5;241m0\u001b[39m): \u001b[38;5;28;01mreturn\u001b[39;00m \u001b[38;5;28;43mtype\u001b[39;49m\u001b[43m(\u001b[49m\u001b[43mdefault\u001b[49m\u001b[43m)\u001b[49m\u001b[43m(\u001b[49m\u001b[43mos\u001b[49m\u001b[38;5;241;43m.\u001b[39;49m\u001b[43mgetenv\u001b[49m\u001b[43m(\u001b[49m\u001b[43mkey\u001b[49m\u001b[43m,\u001b[49m\u001b[43m \u001b[49m\u001b[43mdefault\u001b[49m\u001b[43m)\u001b[49m\u001b[43m)\u001b[49m\n",
      "\u001b[0;31mValueError\u001b[0m: invalid literal for int() with base 10: 'WARN'"
     ]
    }
   ],
   "source": [
    "import os\n",
    "from typing import List, Callable\n",
    "from tinygrad import Tensor, TinyJit, nn, GlobalCounters\n",
    "from tinygrad.helpers import colored, trange\n",
    "from tinygrad.nn.datasets import mnist\n",
    "\n",
    "# Print TinyGrad-related environment variables\n",
    "for key, value in os.environ.items():\n",
    "    if 'TINYGRAD_' in key:\n",
    "        print(f\"{key}: {value}\")\n",
    "\n",
    "# Try to reproduce the error\n",
    "try:\n",
    "    test_value = getenv('TINYGRAD_DEBUG', 0)\n",
    "    print(f\"TINYGRAD_DEBUG: {test_value}\")\n",
    "except ValueError as e:\n",
    "    print(f\"Error in getenv: {e}\")\n",
    "\n",
    "# Now proceed with your original code"
   ]
  },
  {
   "cell_type": "code",
   "execution_count": null,
   "metadata": {},
   "outputs": [],
   "source": []
  }
 ],
 "metadata": {
  "kernelspec": {
   "display_name": ".venv",
   "language": "python",
   "name": "python3"
  },
  "language_info": {
   "codemirror_mode": {
    "name": "ipython",
    "version": 3
   },
   "file_extension": ".py",
   "mimetype": "text/x-python",
   "name": "python",
   "nbconvert_exporter": "python",
   "pygments_lexer": "ipython3",
   "version": "3.12.4"
  }
 },
 "nbformat": 4,
 "nbformat_minor": 2
}
