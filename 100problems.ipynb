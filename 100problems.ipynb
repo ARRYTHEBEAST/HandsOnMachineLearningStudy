{
 "cells": [
  {
   "cell_type": "code",
   "execution_count": 1,
   "metadata": {},
   "outputs": [
    {
     "name": "stdout",
     "output_type": "stream",
     "text": [
      "test\n"
     ]
    }
   ],
   "source": [
    "print('test')"
   ]
  },
  {
   "cell_type": "code",
   "execution_count": 9,
   "metadata": {},
   "outputs": [
    {
     "data": {
      "text/plain": [
       "138"
      ]
     },
     "execution_count": 9,
     "metadata": {},
     "output_type": "execute_result"
    }
   ],
   "source": [
    "lst = []\n",
    "for i in range(2000,3201):\n",
    "    if (i%7==0) and not (i%5==0):\n",
    "        lst.append(i)\n",
    "len(lst)"
   ]
  },
  {
   "cell_type": "code",
   "execution_count": 10,
   "metadata": {},
   "outputs": [
    {
     "data": {
      "text/plain": [
       "138"
      ]
     },
     "execution_count": 10,
     "metadata": {},
     "output_type": "execute_result"
    }
   ],
   "source": [
    "l=[]\n",
    "for i in range(2000, 3201):\n",
    "    if (i%7==0) and (i%5!=0):\n",
    "        l.append(str(i))\n",
    "\n",
    "len(l)"
   ]
  },
  {
   "cell_type": "code",
   "execution_count": 20,
   "metadata": {},
   "outputs": [
    {
     "ename": "ValueError",
     "evalue": "invalid literal for int() with base 10: ','",
     "output_type": "error",
     "traceback": [
      "\u001b[0;31m---------------------------------------------------------------------------\u001b[0m",
      "\u001b[0;31mValueError\u001b[0m                                Traceback (most recent call last)",
      "Cell \u001b[0;32mIn[20], line 5\u001b[0m\n\u001b[1;32m      3\u001b[0m lst \u001b[38;5;241m=\u001b[39m []\n\u001b[1;32m      4\u001b[0m \u001b[38;5;28;01mfor\u001b[39;00m i \u001b[38;5;129;01min\u001b[39;00m \u001b[38;5;28mrange\u001b[39m(\u001b[38;5;28mlen\u001b[39m(en)):\n\u001b[0;32m----> 5\u001b[0m     adder \u001b[38;5;241m=\u001b[39m \u001b[38;5;28;43mint\u001b[39;49m\u001b[43m(\u001b[49m\u001b[43men\u001b[49m\u001b[43m[\u001b[49m\u001b[43mi\u001b[49m\u001b[43m]\u001b[49m\u001b[43m)\u001b[49m\n\u001b[1;32m      6\u001b[0m     lst\u001b[38;5;241m.\u001b[39mappend(adder)\n",
      "\u001b[0;31mValueError\u001b[0m: invalid literal for int() with base 10: ','"
     ]
    }
   ],
   "source": [
    "en = input()\n",
    "en.split(sep=',')\n",
    "lst = []\n",
    "for i in range(len(en)):\n",
    "    adder = int(en[i])\n",
    "    lst.append(adder)"
   ]
  },
  {
   "cell_type": "code",
   "execution_count": 27,
   "metadata": {},
   "outputs": [],
   "source": [
    "en = input()\n",
    "en = en.split(sep=',')\n",
    "lst = []\n",
    "for i in range(len(en)):\n",
    "    adder = int(en[i])\n",
    "    lst.append(adder)\n",
    "    # adder = int(en[i])\n",
    "    # lst.append(adder)"
   ]
  },
  {
   "cell_type": "code",
   "execution_count": 28,
   "metadata": {},
   "outputs": [
    {
     "data": {
      "text/plain": [
       "[1, 2, 3, 4, 5]"
      ]
     },
     "execution_count": 28,
     "metadata": {},
     "output_type": "execute_result"
    }
   ],
   "source": [
    "lst"
   ]
  },
  {
   "cell_type": "code",
   "execution_count": 38,
   "metadata": {},
   "outputs": [
    {
     "name": "stdout",
     "output_type": "stream",
     "text": [
      "For 2the factorial is: 2\n",
      "For 4the factorial is: 24\n",
      "For 7the factorial is: 5040\n",
      "For 2the factorial is: 2\n"
     ]
    }
   ],
   "source": [
    "en = input()\n",
    "en = en.split(sep=',')\n",
    "lst = []\n",
    "for i in range(len(en)):\n",
    "    adder = int(en[i])\n",
    "    lst.append(adder)\n",
    "for i in lst:\n",
    "    out = 1\n",
    "    for j in range(1,i+1):\n",
    "        out = out*j\n",
    "    print('For '+ str(i) + ' the factorial is: '+ str(out))"
   ]
  },
  {
   "cell_type": "code",
   "execution_count": 43,
   "metadata": {},
   "outputs": [
    {
     "name": "stdout",
     "output_type": "stream",
     "text": [
      "6\n"
     ]
    }
   ],
   "source": [
    "def fact(x):\n",
    "    if x == 0:\n",
    "        return 1\n",
    "    return x * fact(x - 1)\n",
    "\n",
    "x=int(input())\n",
    "print(fact(x))"
   ]
  },
  {
   "cell_type": "code",
   "execution_count": 48,
   "metadata": {},
   "outputs": [],
   "source": [
    "dics = {}\n",
    "\n",
    "dics['Key1'] = 1\n",
    "\n"
   ]
  },
  {
   "cell_type": "code",
   "execution_count": 54,
   "metadata": {},
   "outputs": [
    {
     "data": {
      "text/plain": [
       "{1: 1, 2: 4, 3: 9, 4: 16, 5: 25, 6: 36, 7: 49, 8: 64}"
      ]
     },
     "execution_count": 54,
     "metadata": {},
     "output_type": "execute_result"
    }
   ],
   "source": [
    "dics = {}\n",
    "number = int(input(\"Enter the number: \"))\n",
    "for i in range(1, number+1):\n",
    "    dics[i] = i*i\n",
    "dics"
   ]
  },
  {
   "cell_type": "code",
   "execution_count": 56,
   "metadata": {},
   "outputs": [
    {
     "name": "stdout",
     "output_type": "stream",
     "text": [
      "['1', '2', '3', '4', '5'] ('1', '2', '3', '4', '5')\n"
     ]
    }
   ],
   "source": [
    "inpp = input('Enter the numbers: ')\n",
    "out1 = inpp.split(sep=',')\n",
    "out2 = tuple(out1)\n",
    "print(out1,out2)"
   ]
  },
  {
   "cell_type": "code",
   "execution_count": 57,
   "metadata": {},
   "outputs": [
    {
     "ename": "SyntaxError",
     "evalue": "expected ':' (4114836889.py, line 2)",
     "output_type": "error",
     "traceback": [
      "\u001b[0;36m  Cell \u001b[0;32mIn[57], line 2\u001b[0;36m\u001b[0m\n\u001b[0;31m    def getString()\u001b[0m\n\u001b[0m                   ^\u001b[0m\n\u001b[0;31mSyntaxError\u001b[0m\u001b[0;31m:\u001b[0m expected ':'\n"
     ]
    }
   ],
   "source": [
    "class stringss:\n",
    "    def getString()"
   ]
  },
  {
   "cell_type": "code",
   "execution_count": 59,
   "metadata": {},
   "outputs": [],
   "source": [
    "# Forward SUbstitution:"
   ]
  },
  {
   "cell_type": "code",
   "execution_count": 60,
   "metadata": {},
   "outputs": [],
   "source": [
    "import numpy as np"
   ]
  },
  {
   "cell_type": "code",
   "execution_count": 96,
   "metadata": {},
   "outputs": [],
   "source": [
    "L1 = np.array([\n",
    "    [2, 0, 0],\n",
    "    [3, 1, 0],\n",
    "    [1, -1, 1]\n",
    "], dtype=float)\n",
    "\n",
    "b1 = np.array([2, 5, 1], dtype=float)\n",
    "\n",
    "L2 = np.array([\n",
    "    [1, 0, 0, 0],\n",
    "    [2, 3, 0, 0],\n",
    "    [4, 1, 2, 0],\n",
    "    [1, -1, 3, 1]\n",
    "], dtype=float)\n",
    "\n",
    "b2 = np.array([1, 8, 12, 6], dtype=float)\n",
    "\n",
    "L3 = np.array([\n",
    "    [5, 0, 0, 0, 0],\n",
    "    [2, 6, 0, 0, 0],\n",
    "    [1, -1, 7, 0, 0],\n",
    "    [3, 2, 1, 4, 0],\n",
    "    [0, 0, 2, 1, 5]\n",
    "], dtype=float)\n",
    "\n",
    "b3 = np.array([5, 16, 15, 10, 3], dtype=float)\n",
    "\n",
    "\n"
   ]
  },
  {
   "cell_type": "code",
   "execution_count": 103,
   "metadata": {},
   "outputs": [],
   "source": [
    "def forward_substitution(L,b):\n",
    "    x = []\n",
    "    for i in range(len(L)):\n",
    "        print(f'the i value is: {i}')\n",
    "        if i==0:\n",
    "            x1 = b[i]/L[i][i]\n",
    "            x.append(x1)\n",
    "        else:\n",
    "            summation = 0\n",
    "            for j in range(i):\n",
    "                temp = (L[i][j]) * x[j]\n",
    "                summation = summation+temp\n",
    "                xs = (b[i] - summation)/L[i][i]\n",
    "                x.append(xs)    \n",
    "    print(x)\n"
   ]
  },
  {
   "cell_type": "code",
   "execution_count": 102,
   "metadata": {},
   "outputs": [
    {
     "name": "stdout",
     "output_type": "stream",
     "text": [
      "[np.float64(1.0), np.float64(2.0), np.float64(3.0), np.float64(-2.0)]\n"
     ]
    }
   ],
   "source": [
    "forward_substitution(L2,b2)"
   ]
  },
  {
   "cell_type": "code",
   "execution_count": 2,
   "metadata": {},
   "outputs": [],
   "source": [
    "class InputOutString(object):\n",
    "    def __init__(self, isDog):\n",
    "        self.s = ''\n",
    "        self.isDog = True"
   ]
  },
  {
   "cell_type": "code",
   "execution_count": 6,
   "metadata": {},
   "outputs": [],
   "source": [
    "dog = InputOutString(False)"
   ]
  },
  {
   "cell_type": "code",
   "execution_count": 9,
   "metadata": {},
   "outputs": [],
   "source": [
    "dog.isDog = False"
   ]
  },
  {
   "cell_type": "code",
   "execution_count": 10,
   "metadata": {},
   "outputs": [
    {
     "data": {
      "text/plain": [
       "False"
      ]
     },
     "execution_count": 10,
     "metadata": {},
     "output_type": "execute_result"
    }
   ],
   "source": [
    "dog.isDog"
   ]
  },
  {
   "cell_type": "code",
   "execution_count": 47,
   "metadata": {},
   "outputs": [],
   "source": [
    "class Student(object):\n",
    "    def __init__(self, Name, Age, Surname, standard, Grade, score=None):\n",
    "        self.Name = Name\n",
    "        self.Age = Age\n",
    "        self.Surname = Surname\n",
    "        self.standard = standard\n",
    "        self.Grade = Grade\n",
    "        self.score = score\n",
    "        \n",
    "        \n",
    "    def isAdult(self):\n",
    "        if self.Age > 18:\n",
    "            print('The student is above 18')\n",
    "            return True\n",
    "        else:\n",
    "            print('The student is not adult')\n",
    "            return False\n",
    "    \n",
    "    def getInfo(self):\n",
    "        print(self.Name, self.Age)\n",
    "    \n",
    "    def incMarks(self, score):\n",
    "        self.score = score\n",
    "        print(f'{score} marks have been registered into the system for the current year.')\n",
    "\n",
    "    def checkMarks(self):\n",
    "        print(' The marks are', self.score)\n",
    "        \n"
   ]
  },
  {
   "cell_type": "code",
   "execution_count": 42,
   "metadata": {},
   "outputs": [
    {
     "name": "stdout",
     "output_type": "stream",
     "text": [
      "The student is not adult\n",
      "arjun 12\n",
      "55 marks have been registered into the system for the current year.\n"
     ]
    }
   ],
   "source": [
    "student1 = Student('arjun', 12, 'khamkar',112,23)\n",
    "student1.isAdult()\n",
    "student1.getInfo()\n",
    "student1.incMarks(55)"
   ]
  },
  {
   "cell_type": "code",
   "execution_count": 39,
   "metadata": {},
   "outputs": [
    {
     "name": "stdout",
     "output_type": "stream",
     "text": [
      "The student is above 18\n"
     ]
    },
    {
     "data": {
      "text/plain": [
       "True"
      ]
     },
     "execution_count": 39,
     "metadata": {},
     "output_type": "execute_result"
    }
   ],
   "source": [
    "student2 = Student('vishwajeet', 78, 'patil', 123, 4)\n",
    "student2.isAdult()"
   ]
  },
  {
   "cell_type": "code",
   "execution_count": 53,
   "metadata": {},
   "outputs": [
    {
     "name": "stdout",
     "output_type": "stream",
     "text": [
      " The marks are 100\n",
      "88 marks have been registered into the system for the current year.\n",
      " The marks are 88\n"
     ]
    }
   ],
   "source": [
    "arjun = Student('Arjun', 56, 'khamkar', 65, 67,100)\n",
    "arjun.checkMarks()\n",
    "arjun.incMarks(88)\n",
    "arjun.checkMarks()"
   ]
  },
  {
   "cell_type": "code",
   "execution_count": null,
   "metadata": {},
   "outputs": [],
   "source": []
  }
 ],
 "metadata": {
  "kernelspec": {
   "display_name": ".venv",
   "language": "python",
   "name": "python3"
  },
  "language_info": {
   "codemirror_mode": {
    "name": "ipython",
    "version": 3
   },
   "file_extension": ".py",
   "mimetype": "text/x-python",
   "name": "python",
   "nbconvert_exporter": "python",
   "pygments_lexer": "ipython3",
   "version": "3.12.4"
  }
 },
 "nbformat": 4,
 "nbformat_minor": 2
}
